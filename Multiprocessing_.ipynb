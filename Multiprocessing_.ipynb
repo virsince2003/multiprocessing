{
 "cells": [
  {
   "cell_type": "markdown",
   "id": "d2eadfc5-0449-4fb2-b733-5b24ac69f629",
   "metadata": {},
   "source": [
    "##### Q1. What is multiprocessing in python? Why is it useful?"
   ]
  },
  {
   "cell_type": "markdown",
   "id": "be044783-2e3d-4352-9f26-35c485b4df5e",
   "metadata": {},
   "source": [
    "Python’s multiprocessing module allows you to create and manage new child processes in Python. it is used to increase the performance."
   ]
  },
  {
   "cell_type": "markdown",
   "id": "f35977da-c99b-456a-b209-8229526a1b4a",
   "metadata": {},
   "source": [
    "##### Q2. What are the differences between multiprocessing and multithreading?"
   ]
  },
  {
   "cell_type": "markdown",
   "id": "d45c328c-71a2-4ee1-aeb1-e13c4ef338a0",
   "metadata": {},
   "source": [
    "In multiprocessing, CPUs are added for increasing computing power.\n",
    "While In multithreading many threads are created of a single process for increasing computing power."
   ]
  },
  {
   "cell_type": "markdown",
   "id": "b6f959f7-02e6-4a17-8585-12dac717d2d7",
   "metadata": {},
   "source": [
    "##### Q3. Write a python code to create a process using the multiprocessing module."
   ]
  },
  {
   "cell_type": "code",
   "execution_count": 1,
   "id": "9e244a2c-41cd-41c0-b4f2-2242422aa4c6",
   "metadata": {},
   "outputs": [],
   "source": [
    "import multiprocessing"
   ]
  },
  {
   "cell_type": "code",
   "execution_count": 2,
   "id": "f68c7464-0708-4c93-a22a-ad3e60860f33",
   "metadata": {},
   "outputs": [
    {
     "name": "stdout",
     "output_type": "stream",
     "text": [
      "[1, 8, 97336, 474552]\n"
     ]
    }
   ],
   "source": [
    "def cube(n):\n",
    "    return n**3\n",
    "if __name__==\"__main__\":\n",
    "    with multiprocessing.Pool(processes=5) as pool:\n",
    "        out = pool.map(cube, [1,2,46,78])\n",
    "        print(out)"
   ]
  },
  {
   "cell_type": "markdown",
   "id": "460f5fc6-bfa5-4137-ae5d-c91aa199bef6",
   "metadata": {},
   "source": [
    "##### Q4. What is a multiprocessing pool in python? Why is it used?"
   ]
  },
  {
   "cell_type": "markdown",
   "id": "760f746d-dafb-4e5a-87d2-1aa808124d7d",
   "metadata": {},
   "source": [
    " multiprocessing pool is a class that allows parallel execution of a function across multiple input values, using available processors.it is used to "
   ]
  },
  {
   "cell_type": "markdown",
   "id": "6b9f2cd5-eb0c-472f-be61-9122f49a37b0",
   "metadata": {},
   "source": [
    "##### Q5. How can we create a pool of worker processes in python using the multiprocessing module?"
   ]
  },
  {
   "cell_type": "markdown",
   "id": "5fbac404-d5a7-463f-afaa-ba0ca85c711d",
   "metadata": {},
   "source": [
    "To create a pool of worker processes in Python using the multiprocessing module, you can use the multiprocessing.Pool() method.\n",
    "there is example given in Q3."
   ]
  },
  {
   "cell_type": "markdown",
   "id": "24331844-82f0-4cd8-b40e-1ce8b66842c5",
   "metadata": {},
   "source": [
    "##### Q6. Write a python program to create 4 processes, each process should print a different number using the multiprocessing module in python."
   ]
  },
  {
   "cell_type": "code",
   "execution_count": 3,
   "id": "17bd4c28-3701-4c83-9d31-0839006b5a47",
   "metadata": {},
   "outputs": [
    {
     "name": "stdout",
     "output_type": "stream",
     "text": [
      "Process 0: 0\n",
      "Process 1: 1\n",
      "Process 2: 2\n",
      "Process 3: 3\n"
     ]
    }
   ],
   "source": [
    "import multiprocessing\n",
    "\n",
    "def number(num):\n",
    "    print(f\"Process {num}: {num}\")\n",
    "\n",
    "if __name__ == '__main__':\n",
    "    processes = []\n",
    "    for i in range(4):\n",
    "        p = multiprocessing.Process(target=number, args=(i,))\n",
    "        processes.append(p)\n",
    "        p.start()"
   ]
  }
 ],
 "metadata": {
  "kernelspec": {
   "display_name": "Python 3 (ipykernel)",
   "language": "python",
   "name": "python3"
  },
  "language_info": {
   "codemirror_mode": {
    "name": "ipython",
    "version": 3
   },
   "file_extension": ".py",
   "mimetype": "text/x-python",
   "name": "python",
   "nbconvert_exporter": "python",
   "pygments_lexer": "ipython3",
   "version": "3.10.8"
  }
 },
 "nbformat": 4,
 "nbformat_minor": 5
}
